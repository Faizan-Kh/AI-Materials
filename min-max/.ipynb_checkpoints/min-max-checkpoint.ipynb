{
 "cells": [
  {
   "cell_type": "code",
   "execution_count": 1,
   "id": "f8cf2846",
   "metadata": {},
   "outputs": [],
   "source": [
    "#Nodes of Treee\n",
    "class Node:\n",
    "    def __init__(self, value):\n",
    "        self.value = value\n",
    "        self.children = []\n",
    "\n",
    "    def add_child(self, child):\n",
    "        self.children.append(child)\n",
    "\n",
    "    def __iter__(self):\n",
    "        return iter(self.children)"
   ]
  },
  {
   "cell_type": "code",
   "execution_count": 2,
   "id": "10329d89",
   "metadata": {},
   "outputs": [],
   "source": [
    "#Build Leaf Tree\n",
    "def build_leaf_tree():\n",
    "    leaf_nodes = [\n",
    "        Node([5,6]), #4\n",
    "        Node([7,4,5]), #3\n",
    "        Node([3]), #4\n",
    "        Node([6]),\n",
    "        Node([6,9]),\n",
    "        Node([7]),\n",
    "        Node([5]),\n",
    "        Node([9,8]),\n",
    "        Node([6])\n",
    "    ]\n",
    "    return leaf_nodes"
   ]
  },
  {
   "cell_type": "code",
   "execution_count": 8,
   "id": "6b34d643",
   "metadata": {},
   "outputs": [],
   "source": [
    "#Build the tree Structure\n",
    "\n",
    "\n",
    "def build_tree_structure(level, node, maxi):\n",
    "    if level == -1:\n",
    "        return node.value[0]  # assuming the value is a list with one element\n",
    "\n",
    "    if maxi:\n",
    "        evaluate_max = -100000\n",
    "        for i in node:\n",
    "            evaluation = build_tree_structure(level-1, i, False)\n",
    "            evaluate_max = max(evaluate_max, evaluation)\n",
    "        return evaluate_max\n",
    "    else:\n",
    "        evaluate_min = 100000\n",
    "        for i in node:\n",
    "            evaluation = build_tree_structure(level-1, i, True)\n",
    "            evaluate_min = min(evaluate_min, evaluation)\n",
    "        return evaluate_min"
   ]
  },
  {
   "cell_type": "code",
   "execution_count": 9,
   "id": "e328ffcf",
   "metadata": {},
   "outputs": [],
   "source": [
    "#Draw a Tree\n",
    "def build_tree(leaf_nodes):\n",
    "    # build the tree structure\n",
    "    node3 = Node([])\n",
    "    node3.add_child(leaf_nodes[0])\n",
    "    node3.add_child(leaf_nodes[1])\n",
    "\n",
    "    node4 = Node([])\n",
    "    node4.add_child(leaf_nodes[2])\n",
    "    node4.add_child(leaf_nodes[3])\n",
    "\n",
    "    node5 = Node([])\n",
    "    node5.add_child(leaf_nodes[4])\n",
    "    node5.add_child(leaf_nodes[5])\n",
    "\n",
    "    node6 = Node([])\n",
    "    node6.add_child(leaf_nodes[6])\n",
    "    node6.add_child(leaf_nodes[7])\n",
    "\n",
    "    node2 = Node([])\n",
    "    node2.add_child(node3)\n",
    "    node2.add_child(node4)\n",
    "\n",
    "    node1 = Node([])\n",
    "    node1.add_child(node2)\n",
    "    node1.add_child(node5)\n",
    "    node1.add_child(node6)\n",
    "\n",
    "    return node1"
   ]
  },
  {
   "cell_type": "code",
   "execution_count": 10,
   "id": "3980f9e8",
   "metadata": {},
   "outputs": [],
   "source": [
    "def main():\n",
    "    leaf_nodes = build_leaf_tree()\n",
    "    root_node = build_tree(leaf_nodes)\n",
    "    result = build_tree_structure(2, root_node, True)\n",
    "    print(\"Result:\", result)"
   ]
  },
  {
   "cell_type": "code",
   "execution_count": 11,
   "id": "62da63aa",
   "metadata": {},
   "outputs": [
    {
     "name": "stdout",
     "output_type": "stream",
     "text": [
      "Result: 6\n"
     ]
    }
   ],
   "source": [
    "main()"
   ]
  },
  {
   "cell_type": "code",
   "execution_count": null,
   "id": "7877529f",
   "metadata": {},
   "outputs": [],
   "source": []
  }
 ],
 "metadata": {
  "kernelspec": {
   "display_name": "Python 3 (ipykernel)",
   "language": "python",
   "name": "python3"
  },
  "language_info": {
   "codemirror_mode": {
    "name": "ipython",
    "version": 3
   },
   "file_extension": ".py",
   "mimetype": "text/x-python",
   "name": "python",
   "nbconvert_exporter": "python",
   "pygments_lexer": "ipython3",
   "version": "3.9.12"
  }
 },
 "nbformat": 4,
 "nbformat_minor": 5
}
