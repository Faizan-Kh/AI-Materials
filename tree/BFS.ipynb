{
 "cells": [
  {
   "cell_type": "code",
   "execution_count": 24,
   "id": "848155c8-9e49-43b3-9eda-5c4dcca398d4",
   "metadata": {},
   "outputs": [],
   "source": [
    "class TreeNode:\n",
    "    def __init__(self, value):\n",
    "        self.value = value\n",
    "        self.left = None\n",
    "        self.right = None"
   ]
  },
  {
   "cell_type": "code",
   "execution_count": 30,
   "id": "28e0367d-8f70-492c-9bf7-9f2b8be2a493",
   "metadata": {},
   "outputs": [],
   "source": [
    "def bfs_traversal(root):\n",
    "    if root is None:\n",
    "        return []\n",
    "    queue = []\n",
    "    result = []\n",
    "    queue.append(root)\n",
    "\n",
    "    while queue:\n",
    "        node = queue.pop(0)\n",
    "        result.append(node.value)\n",
    "        if node.left:\n",
    "            queue.append(node.left)\n",
    "        if node.right:\n",
    "            queue.append(node.right)\n",
    "\n",
    "    return result"
   ]
  },
  {
   "cell_type": "code",
   "execution_count": 31,
   "id": "6312b6aa-fa3e-4693-bc6c-e57a4738fac0",
   "metadata": {},
   "outputs": [],
   "source": [
    "# Creating a sample binary tree\n",
    "#       1\n",
    "#      / \\\n",
    "#     2   3\n",
    "#    / \\ / \\\n",
    "#   4  5 6  7\n",
    "\n",
    "root = TreeNode(1)\n",
    "root.left = TreeNode(2)\n",
    "root.right = TreeNode(3)\n",
    "root.left.left = TreeNode(4)\n",
    "root.left.right = TreeNode(5)\n",
    "root.right.left = TreeNode(6)\n",
    "root.right.right = TreeNode(7)\n"
   ]
  },
  {
   "cell_type": "code",
   "execution_count": 32,
   "id": "f177ebec-2e7c-4813-9bd3-89ffe376b8b2",
   "metadata": {},
   "outputs": [
    {
     "name": "stdout",
     "output_type": "stream",
     "text": [
      "BFS Traversal: [1, 2, 3, 4, 5, 6, 7]\n"
     ]
    }
   ],
   "source": [
    "result = bfs_traversal(root)\n",
    "print(\"BFS Traversal:\", result)"
   ]
  },
  {
   "cell_type": "code",
   "execution_count": null,
   "id": "efc1fcca-ec7c-4f14-a7f5-a60ef9586053",
   "metadata": {},
   "outputs": [],
   "source": []
  }
 ],
 "metadata": {
  "kernelspec": {
   "display_name": "Python 3 (ipykernel)",
   "language": "python",
   "name": "python3"
  },
  "language_info": {
   "codemirror_mode": {
    "name": "ipython",
    "version": 3
   },
   "file_extension": ".py",
   "mimetype": "text/x-python",
   "name": "python",
   "nbconvert_exporter": "python",
   "pygments_lexer": "ipython3",
   "version": "3.10.12"
  }
 },
 "nbformat": 4,
 "nbformat_minor": 5
}
