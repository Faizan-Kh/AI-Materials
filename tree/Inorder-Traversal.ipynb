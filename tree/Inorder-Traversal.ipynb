{
 "cells": [
  {
   "cell_type": "code",
   "execution_count": 1,
   "id": "fa9cda75-98dc-4ae6-a94f-097609f5cefa",
   "metadata": {},
   "outputs": [
    {
     "name": "stdout",
     "output_type": "stream",
     "text": [
      "Root: 1\n",
      "Left Child: 2\n",
      "Right Child: 3\n",
      "Inorder Traversal: [4, 2, 5, 1, 6, 3, 7]\n"
     ]
    }
   ],
   "source": [
    "class TreeNode:\n",
    "    def __init__(self, value):\n",
    "        self.value = value\n",
    "        self.left = None\n",
    "        self.right = None\n",
    "\n",
    "    def add_child(self, value):\n",
    "        \"\"\"\n",
    "        Add a child node with the given value.\n",
    "        If the left child is None, add the node there,\n",
    "        otherwise, add it to the right child.\n",
    "        \"\"\"\n",
    "        if self.left is None:\n",
    "            self.left = TreeNode(value)\n",
    "        elif self.right is None:\n",
    "            self.right = TreeNode(value)\n",
    "        else:\n",
    "            print(\"This node is already full. Cannot add child.\")\n",
    "\n",
    "def inorder_traversal(root):\n",
    "    \"\"\"\n",
    "    Perform inorder traversal starting from the given root node.\n",
    "    \"\"\"\n",
    "    result = []\n",
    "\n",
    "    # Base case: If the root is None, return an empty list\n",
    "    if root is None:\n",
    "        return result\n",
    "\n",
    "    # Traverse left subtree recursively\n",
    "    result.extend(inorder_traversal(root.left))\n",
    "\n",
    "    # Visit the current node\n",
    "    result.append(root.value)\n",
    "\n",
    "    # Traverse right subtree recursively\n",
    "    result.extend(inorder_traversal(root.right))\n",
    "\n",
    "    return result\n",
    "\n",
    "# Example usage:\n",
    "# Create the root node\n",
    "root = TreeNode(1)\n",
    "# Add child nodes\n",
    "root.add_child(2)\n",
    "root.add_child(3)\n",
    "root.left.add_child(4)\n",
    "root.left.add_child(5)\n",
    "root.right.add_child(6)\n",
    "root.right.add_child(7)\n",
    "\n",
    "# Display the tree structure\n",
    "print(\"Root:\", root.value)\n",
    "print(\"Left Child:\", root.left.value if root.left else None)\n",
    "print(\"Right Child:\", root.right.value if root.right else None)\n",
    "\n",
    "# Perform inorder traversal\n",
    "print(\"Inorder Traversal:\", inorder_traversal(root))\n"
   ]
  },
  {
   "cell_type": "code",
   "execution_count": null,
   "id": "87c665e5-d860-453c-a277-60fbc25b4ec1",
   "metadata": {},
   "outputs": [],
   "source": []
  }
 ],
 "metadata": {
  "kernelspec": {
   "display_name": "Python 3 (ipykernel)",
   "language": "python",
   "name": "python3"
  },
  "language_info": {
   "codemirror_mode": {
    "name": "ipython",
    "version": 3
   },
   "file_extension": ".py",
   "mimetype": "text/x-python",
   "name": "python",
   "nbconvert_exporter": "python",
   "pygments_lexer": "ipython3",
   "version": "3.10.12"
  }
 },
 "nbformat": 4,
 "nbformat_minor": 5
}
