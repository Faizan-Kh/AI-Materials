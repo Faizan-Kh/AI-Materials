{
 "cells": [
  {
   "cell_type": "code",
   "execution_count": 5,
   "id": "51b22c75-ba1a-4939-9507-e209c6897078",
   "metadata": {},
   "outputs": [
    {
     "name": "stdout",
     "output_type": "stream",
     "text": [
      "Process\tArrival Time\tBurst Time\tCompletion Time\tWaiting Time\tTurn Around Time\tResponse Time\n",
      "P0\t0\t\t5\t\t5\t\t0\t\t5\t\t0\n",
      "P1\t1\t\t3\t\t8\t\t4\t\t7\t\t4\n",
      "P2\t2\t\t8\t\t16\t\t6\t\t14\t\t6\n",
      "P3\t3\t\t6\t\t22\t\t13\t\t19\t\t13\n",
      "Average Waiting Time: 5.75\n",
      "Average Response Time: 5.75\n",
      "Average Burst Time: 5.5\n"
     ]
    }
   ],
   "source": [
    "def fcfs(processes, arrival_time, burst_time):\n",
    "    n = len(processes)\n",
    "    completion_time = [0] * n\n",
    "    waiting_time = [0] * n\n",
    "    turn_around_time = [0] * n\n",
    "    response_time = [0] * n\n",
    "\n",
    "    # Calculate completion time\n",
    "    completion_time[0] = arrival_time[0] + burst_time[0]\n",
    "    for i in range(1, n):\n",
    "        if arrival_time[i] > completion_time[i-1]:\n",
    "            completion_time[i] = arrival_time[i] + burst_time[i]\n",
    "        else:\n",
    "            completion_time[i] = completion_time[i-1] + burst_time[i]\n",
    "\n",
    "    # Calculate waiting time\n",
    "    waiting_time[0] = 0\n",
    "    for i in range(1, n):\n",
    "        waiting_time[i] = completion_time[i-1] - arrival_time[i]\n",
    "\n",
    "    # Calculate turn around time\n",
    "    for i in range(n):\n",
    "        turn_around_time[i] = completion_time[i] - arrival_time[i]\n",
    "\n",
    "    # Calculate response time\n",
    "    response_time[0] = 0\n",
    "    for i in range(1, n):\n",
    "        response_time[i] = waiting_time[i]\n",
    "\n",
    "    # Calculate average waiting time and average response time\n",
    "    avg_waiting_time = sum(waiting_time) / n\n",
    "    avg_response_time = sum(response_time) / n\n",
    "    avg_busrt_time = sum(burst_time)/n\n",
    "\n",
    "    # Print the results\n",
    "    print(\"Process\\tArrival Time\\tBurst Time\\tCompletion Time\\tWaiting Time\\tTurn Around Time\\tResponse Time\")\n",
    "    for i in range(n):\n",
    "        print(f\"P{processes[i]}\\t{arrival_time[i]}\\t\\t{burst_time[i]}\\t\\t{completion_time[i]}\\t\\t{waiting_time[i]}\\t\\t{turn_around_time[i]}\\t\\t{response_time[i]}\")\n",
    "    print(f\"Average Waiting Time: {avg_waiting_time}\")\n",
    "    print(f\"Average Response Time: {avg_response_time}\")\n",
    "    print(f\"Average Burst Time: {avg_busrt_time}\")\n",
    "\n",
    "# Example usage\n",
    "processes = [0, 1, 2, 3]\n",
    "arrival_time = [0, 1, 2, 3]\n",
    "burst_time = [5, 3, 8, 6]\n",
    "fcfs(processes, arrival_time, burst_time)"
   ]
  },
  {
   "cell_type": "code",
   "execution_count": null,
   "id": "5b59e6b4-b949-4739-bcb0-c505e8c482fc",
   "metadata": {},
   "outputs": [],
   "source": []
  }
 ],
 "metadata": {
  "kernelspec": {
   "display_name": "Python 3 (ipykernel)",
   "language": "python",
   "name": "python3"
  },
  "language_info": {
   "codemirror_mode": {
    "name": "ipython",
    "version": 3
   },
   "file_extension": ".py",
   "mimetype": "text/x-python",
   "name": "python",
   "nbconvert_exporter": "python",
   "pygments_lexer": "ipython3",
   "version": "3.10.12"
  }
 },
 "nbformat": 4,
 "nbformat_minor": 5
}
