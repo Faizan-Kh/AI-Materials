{
  "nbformat": 4,
  "nbformat_minor": 0,
  "metadata": {
    "colab": {
      "provenance": []
    },
    "kernelspec": {
      "name": "python3",
      "display_name": "Python 3"
    },
    "language_info": {
      "name": "python"
    }
  },
  "cells": [
    {
      "cell_type": "markdown",
      "source": [
        "DFS"
      ],
      "metadata": {
        "id": "VL4dN4JPYiDV"
      }
    },
    {
      "cell_type": "code",
      "source": [
        "def dfs(graph, start, visited=None):\n",
        "    if visited is None:\n",
        "        visited = set()\n",
        "    visited.add(start)\n",
        "    print(start, end=' ')\n",
        "    for neighbor in graph[start]:\n",
        "        if neighbor not in visited:\n",
        "            dfs(graph, neighbor, visited)\n",
        "\n",
        "# Example usage:\n",
        "graph = {\n",
        "    'A': ['B', 'C'],\n",
        "    'B': ['D', 'E'],\n",
        "    'C': ['F'],\n",
        "    'D': [],\n",
        "    'E': ['F'],\n",
        "    'F': []\n",
        "}\n",
        "dfs(graph, 'A')  # Output: A B D E F C\n"
      ],
      "metadata": {
        "colab": {
          "base_uri": "https://localhost:8080/"
        },
        "id": "gfPdiGo_Yl0X",
        "outputId": "eb5396b8-3f2b-4fa8-fdbc-8789a08127a9"
      },
      "execution_count": 1,
      "outputs": [
        {
          "output_type": "stream",
          "name": "stdout",
          "text": [
            "A B D E F C "
          ]
        }
      ]
    },
    {
      "cell_type": "markdown",
      "source": [
        "Breadth First Search"
      ],
      "metadata": {
        "id": "AEnnZP4BYtNS"
      }
    },
    {
      "cell_type": "code",
      "source": [
        "from collections import deque\n",
        "\n",
        "def bfs(graph, start):\n",
        "    visited = set()\n",
        "    queue = deque([start])\n",
        "    while queue:\n",
        "        vertex = queue.popleft()\n",
        "        if vertex not in visited:\n",
        "            print(vertex, end=' ')\n",
        "            visited.add(vertex)\n",
        "            queue.extend(neighbor for neighbor in graph[vertex] if neighbor not in visited)\n",
        "\n",
        "# Example usage:\n",
        "graph = {\n",
        "    'A': ['B', 'C'],\n",
        "    'B': ['D', 'E'],\n",
        "    'C': ['F'],\n",
        "    'D': [],\n",
        "    'E': ['F'],\n",
        "    'F': []\n",
        "}\n",
        "bfs(graph, 'A')  # Output: A B C D E F\n",
        ""
      ],
      "metadata": {
        "id": "bAfhs0dAYwjZ"
      },
      "execution_count": null,
      "outputs": []
    },
    {
      "cell_type": "markdown",
      "source": [
        "A* Search"
      ],
      "metadata": {
        "id": "P7uHQ2-jY3Qv"
      }
    },
    {
      "cell_type": "code",
      "source": [
        "from queue import PriorityQueue\n",
        "\n",
        "def heuristic(a, b):\n",
        "    return abs(a[0] - b[0]) + abs(a[1] - b[1])\n",
        "\n",
        "def a_star_search(graph, start, goal):\n",
        "    pq = PriorityQueue()\n",
        "    pq.put((0, start))\n",
        "    came_from = {}\n",
        "    cost_so_far = {}\n",
        "    came_from[start] = None\n",
        "    cost_so_far[start] = 0\n",
        "\n",
        "    while not pq.empty():\n",
        "        current = pq.get()[1]\n",
        "\n",
        "        if current == goal:\n",
        "            break\n",
        "\n",
        "        for next in graph[current]:\n",
        "            new_cost = cost_so_far[current] + graph[current][next]\n",
        "            if next not in cost_so_far or new_cost < cost_so_far[next]:\n",
        "                cost_so_far[next] = new_cost\n",
        "                priority = new_cost + heuristic(goal, next)\n",
        "                pq.put((priority, next))\n",
        "                came_from[next] = current\n",
        "\n",
        "    return came_from, cost_so_far\n",
        "\n",
        "# Example usage:\n",
        "graph = {\n",
        "    (0, 0): {(1, 0): 1, (0, 1): 1},\n",
        "    (1, 0): {(1, 1): 1, (0, 0): 1},\n",
        "    (0, 1): {(1, 1): 1, (0, 0): 1},\n",
        "    (1, 1): {(1, 0): 1, (0, 1): 1}\n",
        "}\n",
        "start = (0, 0)\n",
        "goal = (1, 1)\n",
        "came_from, cost_so_far = a_star_search(graph, start, goal)\n",
        "print(f\"Path: {came_from}, Cost: {cost_so_far}\")\n"
      ],
      "metadata": {
        "id": "EezPd7ZsY6K8"
      },
      "execution_count": null,
      "outputs": []
    },
    {
      "cell_type": "markdown",
      "source": [
        "Linear Search"
      ],
      "metadata": {
        "id": "TtvC185IZZVm"
      }
    },
    {
      "cell_type": "code",
      "source": [
        "def linear_search(arr, target):\n",
        "    for i in range(len(arr)):\n",
        "        if arr[i] == target:\n",
        "            return i\n",
        "    return -1\n",
        "\n",
        "# Example usage:\n",
        "arr = [2, 3, 4, 10, 40]\n",
        "target = 10\n",
        "result = linear_search(arr, target)\n",
        "print(f\"Element found at index: {result}\")  # Output: Element found at index: 3\n"
      ],
      "metadata": {
        "id": "kyJb_zp2ZakJ"
      },
      "execution_count": null,
      "outputs": []
    },
    {
      "cell_type": "markdown",
      "source": [
        "Binary Search"
      ],
      "metadata": {
        "id": "p8oZ7WPpZc5u"
      }
    },
    {
      "cell_type": "code",
      "source": [
        "def binary_search(arr, target):\n",
        "    left, right = 0, len(arr) - 1\n",
        "    while left <= right:\n",
        "        mid = left + (right - left) // 2\n",
        "        if arr[mid] == target:\n",
        "            return mid\n",
        "        elif arr[mid] < target:\n",
        "            left = mid + 1\n",
        "        else:\n",
        "            right = mid - 1\n",
        "    return -1\n",
        "\n",
        "# Example usage:\n",
        "arr = [2, 3, 4, 10, 40]\n",
        "target = 10\n",
        "result = binary_search(arr, target)\n",
        "print(f\"Element found at index: {result}\")  # Output: Element found at index: 3\n"
      ],
      "metadata": {
        "id": "-7Y6LfzqZeil"
      },
      "execution_count": null,
      "outputs": []
    }
  ]
}