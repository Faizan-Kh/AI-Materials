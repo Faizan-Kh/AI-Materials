{
  "nbformat": 4,
  "nbformat_minor": 0,
  "metadata": {
    "colab": {
      "provenance": []
    },
    "kernelspec": {
      "name": "python3",
      "display_name": "Python 3"
    },
    "language_info": {
      "name": "python"
    }
  },
  "cells": [
    {
      "cell_type": "code",
      "execution_count": 1,
      "metadata": {
        "id": "4nYTHAmdbmLx"
      },
      "outputs": [],
      "source": [
        "import math\n",
        "\n",
        "# Initialize the board\n",
        "def initialize_board():\n",
        "    return [' ' for _ in range(9)]\n",
        "\n",
        "# Print the board\n",
        "def print_board(board):\n",
        "    for row in [board[i*3:(i+1)*3] for i in range(3)]:\n",
        "        print('| ' + ' | '.join(row) + ' |')\n",
        "\n",
        "# Check for a winner\n",
        "def check_winner(board, player):\n",
        "    win_cond = [(0, 1, 2), (3, 4, 5), (6, 7, 8),  # horizontal\n",
        "                (0, 3, 6), (1, 4, 7), (2, 5, 8),  # vertical\n",
        "                (0, 4, 8), (2, 4, 6)]  # diagonal\n",
        "    return any(board[a] == board[b] == board[c] == player for a, b, c in win_cond)\n",
        "\n",
        "# Check if the board is full\n",
        "def is_full(board):\n",
        "    return ' ' not in board\n",
        "\n",
        "# Get available moves\n",
        "def available_moves(board):\n",
        "    return [i for i, x in enumerate(board) if x == ' ']\n"
      ]
    },
    {
      "cell_type": "code",
      "source": [
        "def minimax(board, depth, is_maximizing):\n",
        "    if check_winner(board, 'X'):\n",
        "        return -1\n",
        "    if check_winner(board, 'O'):\n",
        "        return 1\n",
        "    if is_full(board):\n",
        "        return 0\n",
        "\n",
        "    if is_maximizing:\n",
        "        best_score = -math.inf\n",
        "        for move in available_moves(board):\n",
        "            board[move] = 'O'\n",
        "            score = minimax(board, depth + 1, False)\n",
        "            board[move] = ' '\n",
        "            best_score = max(score, best_score)\n",
        "        return best_score\n",
        "    else:\n",
        "        best_score = math.inf\n",
        "        for move in available_moves(board):\n",
        "            board[move] = 'X'\n",
        "            score = minimax(board, depth + 1, True)\n",
        "            board[move] = ' '\n",
        "            best_score = min(score, best_score)\n",
        "        return best_score\n",
        "\n",
        "def best_move(board):\n",
        "    best_score = -math.inf\n",
        "    move = None\n",
        "    for i in available_moves(board):\n",
        "        board[i] = 'O'\n",
        "        score = minimax(board, 0, False)\n",
        "        board[i] = ' '\n",
        "        if score > best_score:\n",
        "            best_score = score\n",
        "            move = i\n",
        "    return move\n"
      ],
      "metadata": {
        "id": "hV4QCcMybsNu"
      },
      "execution_count": 2,
      "outputs": []
    },
    {
      "cell_type": "code",
      "source": [
        "def play_game():\n",
        "    board = initialize_board()\n",
        "    print(\"Initial board:\")\n",
        "    print_board(board)\n",
        "    while True:\n",
        "        # Player move\n",
        "        player_move = int(input(\"Enter your move (0-8): \"))\n",
        "        if board[player_move] != ' ':\n",
        "            print(\"Invalid move! Try again.\")\n",
        "            continue\n",
        "        board[player_move] = 'X'\n",
        "\n",
        "        if check_winner(board, 'X'):\n",
        "            print(\"You win!\")\n",
        "            break\n",
        "        if is_full(board):\n",
        "            print(\"It's a tie!\")\n",
        "            break\n",
        "\n",
        "        # AI move\n",
        "        ai_move = best_move(board)\n",
        "        board[ai_move] = 'O'\n",
        "\n",
        "        if check_winner(board, 'O'):\n",
        "            print(\"AI wins!\")\n",
        "            break\n",
        "        if is_full(board):\n",
        "            print(\"It's a tie!\")\n",
        "            break\n",
        "\n",
        "        print_board(board)\n",
        "\n",
        "    print(\"Final board:\")\n",
        "    print_board(board)\n",
        "\n",
        "# Start the game\n",
        "play_game()\n"
      ],
      "metadata": {
        "colab": {
          "base_uri": "https://localhost:8080/"
        },
        "id": "XVyTIAxNbxMg",
        "outputId": "7680003e-8fe0-436f-cbb3-6c8c3ea60d08"
      },
      "execution_count": 3,
      "outputs": [
        {
          "output_type": "stream",
          "name": "stdout",
          "text": [
            "Initial board:\n",
            "|   |   |   |\n",
            "|   |   |   |\n",
            "|   |   |   |\n",
            "Enter your move (0-8): 1\n",
            "| O | X |   |\n",
            "|   |   |   |\n",
            "|   |   |   |\n",
            "Enter your move (0-8): 8\n",
            "| O | X |   |\n",
            "|   | O |   |\n",
            "|   |   | X |\n",
            "Enter your move (0-8): 2\n",
            "| O | X | X |\n",
            "|   | O | O |\n",
            "|   |   | X |\n",
            "Enter your move (0-8): 2\n",
            "Invalid move! Try again.\n",
            "Enter your move (0-8): 4\n",
            "Invalid move! Try again.\n",
            "Enter your move (0-8): 5\n",
            "Invalid move! Try again.\n",
            "Enter your move (0-8): 6\n",
            "AI wins!\n",
            "Final board:\n",
            "| O | X | X |\n",
            "| O | O | O |\n",
            "| X |   | X |\n"
          ]
        }
      ]
    }
  ]
}