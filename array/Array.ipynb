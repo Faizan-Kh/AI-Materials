{
 "cells": [
  {
   "cell_type": "code",
   "execution_count": 12,
   "id": "28e7d31a-2ba9-4820-ac34-bfbe9b07cdfc",
   "metadata": {},
   "outputs": [
    {
     "name": "stdout",
     "output_type": "stream",
     "text": [
      "array('i', [-1, 2, 3, 4, 5])\n"
     ]
    }
   ],
   "source": [
    "from array import *\n",
    "arr = array('i',[-1,2,3,4,5])\n",
    "print(arr)"
   ]
  },
  {
   "cell_type": "code",
   "execution_count": 10,
   "id": "af1f5b02-a4b9-4cf2-b12e-8286b2ed6384",
   "metadata": {},
   "outputs": [
    {
     "name": "stdout",
     "output_type": "stream",
     "text": [
      "-1\n",
      "2\n",
      "3\n",
      "4\n",
      "5\n"
     ]
    }
   ],
   "source": [
    "for i in arr:\n",
    "    print(i)"
   ]
  },
  {
   "cell_type": "code",
   "execution_count": 16,
   "id": "18dbc22e-7500-4b90-92ec-a96a6c83011f",
   "metadata": {},
   "outputs": [
    {
     "name": "stdout",
     "output_type": "stream",
     "text": [
      "-1\n",
      "2\n",
      "3\n",
      "4\n",
      "5\n"
     ]
    }
   ],
   "source": [
    "for pnt in range(len(arr)):\n",
    "    print(arr[pnt])"
   ]
  },
  {
   "cell_type": "code",
   "execution_count": 18,
   "id": "37b8a934-ac9e-4126-acfb-76d2b84bac15",
   "metadata": {},
   "outputs": [
    {
     "data": {
      "text/plain": [
       "array('i', [-1, 2, 3, 4, 5])"
      ]
     },
     "execution_count": 18,
     "metadata": {},
     "output_type": "execute_result"
    }
   ],
   "source": [
    "arr.reverse()\n",
    "arr"
   ]
  },
  {
   "cell_type": "code",
   "execution_count": 19,
   "id": "78138a2e-3710-48dc-aee4-6789dbf859f9",
   "metadata": {},
   "outputs": [
    {
     "data": {
      "text/plain": [
       "array('i', [-1, 2, 3, 4, 5, 10])"
      ]
     },
     "execution_count": 19,
     "metadata": {},
     "output_type": "execute_result"
    }
   ],
   "source": [
    "arr.append(10)\n",
    "arr"
   ]
  },
  {
   "cell_type": "code",
   "execution_count": 20,
   "id": "522e7bef-d42f-4550-864f-cce2e136a64f",
   "metadata": {},
   "outputs": [
    {
     "data": {
      "text/plain": [
       "array('i', [-1, 3, 4, 5, 10])"
      ]
     },
     "execution_count": 20,
     "metadata": {},
     "output_type": "execute_result"
    }
   ],
   "source": [
    "arr.remove(2)\n",
    "arr"
   ]
  },
  {
   "cell_type": "code",
   "execution_count": 21,
   "id": "f30d155b-2d8b-47ed-8d25-03f4bd5db0db",
   "metadata": {},
   "outputs": [
    {
     "data": {
      "text/plain": [
       "array('i', [-1, 3, 4, 5, 10, 6, 7, 8, 9, 10])"
      ]
     },
     "execution_count": 21,
     "metadata": {},
     "output_type": "execute_result"
    }
   ],
   "source": [
    "arr1=[6,7,8,9,10]\n",
    "arr.extend(arr1)\n",
    "arr"
   ]
  }
 ],
 "metadata": {
  "kernelspec": {
   "display_name": "Python 3 (ipykernel)",
   "language": "python",
   "name": "python3"
  },
  "language_info": {
   "codemirror_mode": {
    "name": "ipython",
    "version": 3
   },
   "file_extension": ".py",
   "mimetype": "text/x-python",
   "name": "python",
   "nbconvert_exporter": "python",
   "pygments_lexer": "ipython3",
   "version": "3.10.12"
  }
 },
 "nbformat": 4,
 "nbformat_minor": 5
}
